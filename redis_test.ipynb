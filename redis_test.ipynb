{
 "cells": [
  {
   "cell_type": "code",
   "execution_count": 1,
   "metadata": {},
   "outputs": [
    {
     "name": "stdout",
     "output_type": "stream",
     "text": [
      "Hi\n"
     ]
    }
   ],
   "source": [
    "print('Hi')"
   ]
  },
  {
   "cell_type": "code",
   "execution_count": 5,
   "metadata": {},
   "outputs": [
    {
     "name": "stdout",
     "output_type": "stream",
     "text": [
      "Connected to Redis server successfully!\n"
     ]
    },
    {
     "data": {
      "text/plain": [
       "'{\"name\": \"sam\"}'"
      ]
     },
     "execution_count": 5,
     "metadata": {},
     "output_type": "execute_result"
    }
   ],
   "source": [
    "import redis\n",
    "redis_host = 'roundhouse.proxy.rlwy.net'\n",
    "redis_port = 15902  # Default Redis port\n",
    "redis_username = 'default'\n",
    "redis_password = 'jlaagI6MiGIldHJADB524MAjDjKM1652'\n",
    "redis_db = 0  # Default Redis database\n",
    "def connect_to_redis(host, port, username, password, db=0):\n",
    "    try:\n",
    "        # Create a connection to the Redis server\n",
    "        redis_client = redis.StrictRedis(\n",
    "            host=host,\n",
    "            port=port,\n",
    "            username=username,\n",
    "            password=password,\n",
    "            db=db,\n",
    "            decode_responses=True  # Decode responses to strings\n",
    "        )\n",
    "        # Test the connection\n",
    "        redis_client.ping()\n",
    "        print(\"Connected to Redis server successfully!\")\n",
    "        return redis_client\n",
    "    except Exception as e:\n",
    "        print(f\"Failed to connect to Redis server: {e}\")\n",
    "        return None\n",
    "\n",
    "redis_client = connect_to_redis(redis_host, redis_port, redis_username, redis_password)\n",
    "redis_client.set(\"name\", '{\"name\": \"sam\"}')\n",
    "redis_client.get(\"name\")"
   ]
  },
  {
   "cell_type": "code",
   "execution_count": 20,
   "metadata": {},
   "outputs": [],
   "source": [
    "\n",
    "\n",
    "from abc import ABC, abstractmethod\n",
    "import json\n",
    "from fastapi.encoders import jsonable_encoder\n",
    "from pydantic import BaseModel\n",
    "import redis\n",
    "\n",
    "class ICache(ABC):\n",
    "    @abstractmethod\n",
    "    async def set_item(key: str, value: object) -> None:\n",
    "        pass\n",
    "\n",
    "    @abstractmethod\n",
    "    async def get_item(key: str) -> object | None:\n",
    "        pass\n",
    "\n",
    "\n",
    "class Cache(ICache):\n",
    "    def __init__(self, host, port, username, password, db=0):\n",
    "        try:\n",
    "            # Create a connection to the Redis server\n",
    "            redis_client = redis.StrictRedis(\n",
    "                host=host,\n",
    "                port=port,\n",
    "                username=username,\n",
    "                password=password,\n",
    "                db=db,\n",
    "                decode_responses=True  # Decode responses to strings\n",
    "            )\n",
    "            # Test the connection\n",
    "            redis_client.ping()\n",
    "            self.redis_client = redis_client\n",
    "        except Exception as e:\n",
    "            self.redis_client = None\n",
    "        \n",
    "    async def set_item(self, key: str, value: object) -> None:\n",
    "        if self.redis_client is None:\n",
    "            return None\n",
    "        json_value = json.dumps(jsonable_encoder(value))\n",
    "        self.redis_client.set(key, json_value)\n",
    "\n",
    "    async def get_item(self, key: str) -> object | None:\n",
    "        if self.redis_client is not None:\n",
    "            value = self.redis_client.get(key)\n",
    "            if value:\n",
    "                return json.loads(value)\n",
    "        return None\n",
    "    \n",
    "class HumanAgeApiResponse(BaseModel):\n",
    "    name: str\n",
    "    age: int | None\n",
    "    \n",
    "class IHumanAgeCache(ABC):\n",
    "    @abstractmethod\n",
    "    async def get_age_for_name(self, name: str) -> HumanAgeApiResponse | None:\n",
    "        pass\n",
    "    \n",
    "    @abstractmethod\n",
    "    async def save_age_for_name(self, age_for_name: HumanAgeApiResponse) -> None:\n",
    "        pass\n",
    "\n",
    "class HumanAgeCache(IHumanAgeCache):\n",
    "    def __init__ (self, cache: ICache):\n",
    "        self.__cache = cache\n",
    "\n",
    "    async def get_age_for_name(self, name: str) -> HumanAgeApiResponse | None:\n",
    "        saved_age_for_name = await self.__cache.get_item(name)\n",
    "        if saved_age_for_name is not None:\n",
    "            return HumanAgeApiResponse(**saved_age_for_name)\n",
    "        \n",
    "    async def save_age_for_name(self, age_for_name: HumanAgeApiResponse) -> None:\n",
    "        await self.__cache.set_item(age_for_name.name, age_for_name)\n",
    "\n",
    "human_age_cache = HumanAgeCache()\n"
   ]
  },
  {
   "cell_type": "code",
   "execution_count": 21,
   "metadata": {},
   "outputs": [],
   "source": [
    "await human_age_cache.save_age_for_name(HumanAgeApiResponse(name = \"sam\", age = 12))"
   ]
  },
  {
   "cell_type": "code",
   "execution_count": 23,
   "metadata": {},
   "outputs": [],
   "source": [
    "await human_age_cache.get_age_for_name(\"sammy\")"
   ]
  },
  {
   "cell_type": "code",
   "execution_count": 34,
   "metadata": {},
   "outputs": [
    {
     "data": {
      "text/plain": [
       "HumanAgeApiResponse(name='micheal', age=57)"
      ]
     },
     "execution_count": 34,
     "metadata": {},
     "output_type": "execute_result"
    }
   ],
   "source": [
    "import aiohttp\n",
    "import requests\n",
    "class BaseApiRequest():\n",
    "    async def get_data(self, url: str) -> str | None:\n",
    "        response = requests.get(url)\n",
    "        if response.ok:\n",
    "            return response.json()\n",
    "        else:\n",
    "            return None\n",
    "class IAgeApi(ABC):\n",
    "    @abstractmethod\n",
    "    async def get_age_by_name(self, name: str) -> HumanAgeApiResponse | None:\n",
    "        pass\n",
    "class AgeApi(BaseApiRequest, IAgeApi):\n",
    "\n",
    "    async def get_age_by_name(self, name: str) -> HumanAgeApiResponse | None:\n",
    "        request_url = f\"https://api.agify.io/?name={name}\"\n",
    "        json_data = await self.get_data(request_url)\n",
    "        if json_data is not None:\n",
    "            \n",
    "            age_response =  HumanAgeApiResponse(**json_data)\n",
    "            return None if age_response.age is None else age_response\n",
    "        \n",
    "        return None\n",
    "    \n",
    "age_api = AgeApi()\n",
    "await age_api.get_age_by_name(\"micheal\")"
   ]
  },
  {
   "cell_type": "code",
   "execution_count": null,
   "metadata": {},
   "outputs": [],
   "source": []
  }
 ],
 "metadata": {
  "kernelspec": {
   "display_name": "env",
   "language": "python",
   "name": "python3"
  },
  "language_info": {
   "codemirror_mode": {
    "name": "ipython",
    "version": 3
   },
   "file_extension": ".py",
   "mimetype": "text/x-python",
   "name": "python",
   "nbconvert_exporter": "python",
   "pygments_lexer": "ipython3",
   "version": "3.10.6"
  }
 },
 "nbformat": 4,
 "nbformat_minor": 2
}
